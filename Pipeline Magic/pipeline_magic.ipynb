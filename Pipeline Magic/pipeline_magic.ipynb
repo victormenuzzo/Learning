{
  "nbformat": 4,
  "nbformat_minor": 0,
  "metadata": {
    "colab": {
      "name": "pipeline_magic.ipynb",
      "provenance": [],
      "collapsed_sections": []
    },
    "kernelspec": {
      "name": "python3",
      "display_name": "Python 3"
    }
  },
  "cells": [
    {
      "cell_type": "markdown",
      "metadata": {
        "id": "yYqTerobFkMw",
        "colab_type": "text"
      },
      "source": [
        "#Learning Sklearn Pipeline\n",
        "\n"
      ]
    },
    {
      "cell_type": "markdown",
      "metadata": {
        "id": "7qOU22sIPTpw",
        "colab_type": "text"
      },
      "source": [
        "references: [Sklearn Pipeline Playground](https://www.kaggle.com/chmaxx/)"
      ]
    },
    {
      "cell_type": "markdown",
      "metadata": {
        "id": "EUxQOuDsFj1h",
        "colab_type": "text"
      },
      "source": [
        "## House Price Regression"
      ]
    },
    {
      "cell_type": "code",
      "metadata": {
        "id": "NodnHGOjFeLw",
        "colab_type": "code",
        "outputId": "36db3bac-e5fe-4f4a-f2cd-779f22748bf3",
        "colab": {
          "base_uri": "https://localhost:8080/",
          "height": 35
        }
      },
      "source": [
        "import numpy as np \n",
        "import pandas as pd \n",
        "\n",
        "from sklearn.preprocessing import StandardScaler\n",
        "from sklearn.preprocessing import RobustScaler\n",
        "from sklearn.preprocessing import OneHotEncoder\n",
        "from sklearn.compose import ColumnTransformer\n",
        "from sklearn.impute import SimpleImputer\n",
        "from sklearn.pipeline import Pipeline\n",
        "from sklearn.pipeline import make_pipeline\n",
        "from sklearn.model_selection import GridSearchCV\n",
        "from sklearn.model_selection import KFold\n",
        "from sklearn.model_selection import cross_val_score\n",
        "from sklearn.dummy import DummyRegressor\n",
        "from sklearn.linear_model import LinearRegression\n",
        "from sklearn.linear_model import ElasticNet\n",
        "from sklearn.linear_model import Lasso\n",
        "from sklearn.linear_model import Ridge\n",
        "from sklearn.linear_model import SGDRegressor\n",
        "from sklearn.svm import SVR\n",
        "from sklearn.svm import LinearSVR\n",
        "from sklearn.kernel_ridge import KernelRidge\n",
        "from sklearn.ensemble import RandomForestRegressor\n",
        "from sklearn.ensemble import GradientBoostingRegressor\n",
        "\n",
        "import xgboost as xgb\n",
        "import lightgbm as lgb\n",
        "\n",
        "import warnings\n",
        "warnings.filterwarnings('ignore')\n",
        "\n",
        "\n",
        "from google.colab import drive\n",
        "drive.mount('/content/drive')\n",
        "df = pd.read_csv(\n",
        "    '/content/drive/My Drive/Data/House_price/train.csv',\n",
        "    encoding = 'ISO-8859-1'\n",
        ")\n",
        "\n",
        "df_test = pd.read_csv(\n",
        "    '/content/drive/My Drive/Data/House_price/test.csv',\n",
        "    encoding = 'ISO-8859-1'\n",
        ")"
      ],
      "execution_count": 1,
      "outputs": [
        {
          "output_type": "stream",
          "text": [
            "Drive already mounted at /content/drive; to attempt to forcibly remount, call drive.mount(\"/content/drive\", force_remount=True).\n"
          ],
          "name": "stdout"
        }
      ]
    },
    {
      "cell_type": "markdown",
      "metadata": {
        "id": "MFn3se8DJLrb",
        "colab_type": "text"
      },
      "source": [
        "###Let's se the data"
      ]
    },
    {
      "cell_type": "code",
      "metadata": {
        "id": "6OS5eEvjJccC",
        "colab_type": "code",
        "outputId": "f9c3a14d-b65a-4c10-b394-75395496d38a",
        "colab": {
          "base_uri": "https://localhost:8080/",
          "height": 247
        }
      },
      "source": [
        "df.head()"
      ],
      "execution_count": 2,
      "outputs": [
        {
          "output_type": "execute_result",
          "data": {
            "text/html": [
              "<div>\n",
              "<style scoped>\n",
              "    .dataframe tbody tr th:only-of-type {\n",
              "        vertical-align: middle;\n",
              "    }\n",
              "\n",
              "    .dataframe tbody tr th {\n",
              "        vertical-align: top;\n",
              "    }\n",
              "\n",
              "    .dataframe thead th {\n",
              "        text-align: right;\n",
              "    }\n",
              "</style>\n",
              "<table border=\"1\" class=\"dataframe\">\n",
              "  <thead>\n",
              "    <tr style=\"text-align: right;\">\n",
              "      <th></th>\n",
              "      <th>Id</th>\n",
              "      <th>MSSubClass</th>\n",
              "      <th>MSZoning</th>\n",
              "      <th>LotFrontage</th>\n",
              "      <th>LotArea</th>\n",
              "      <th>Street</th>\n",
              "      <th>Alley</th>\n",
              "      <th>LotShape</th>\n",
              "      <th>LandContour</th>\n",
              "      <th>Utilities</th>\n",
              "      <th>LotConfig</th>\n",
              "      <th>LandSlope</th>\n",
              "      <th>Neighborhood</th>\n",
              "      <th>Condition1</th>\n",
              "      <th>Condition2</th>\n",
              "      <th>BldgType</th>\n",
              "      <th>HouseStyle</th>\n",
              "      <th>OverallQual</th>\n",
              "      <th>OverallCond</th>\n",
              "      <th>YearBuilt</th>\n",
              "      <th>YearRemodAdd</th>\n",
              "      <th>RoofStyle</th>\n",
              "      <th>RoofMatl</th>\n",
              "      <th>Exterior1st</th>\n",
              "      <th>Exterior2nd</th>\n",
              "      <th>MasVnrType</th>\n",
              "      <th>MasVnrArea</th>\n",
              "      <th>ExterQual</th>\n",
              "      <th>ExterCond</th>\n",
              "      <th>Foundation</th>\n",
              "      <th>BsmtQual</th>\n",
              "      <th>BsmtCond</th>\n",
              "      <th>BsmtExposure</th>\n",
              "      <th>BsmtFinType1</th>\n",
              "      <th>BsmtFinSF1</th>\n",
              "      <th>BsmtFinType2</th>\n",
              "      <th>BsmtFinSF2</th>\n",
              "      <th>BsmtUnfSF</th>\n",
              "      <th>TotalBsmtSF</th>\n",
              "      <th>Heating</th>\n",
              "      <th>...</th>\n",
              "      <th>CentralAir</th>\n",
              "      <th>Electrical</th>\n",
              "      <th>1stFlrSF</th>\n",
              "      <th>2ndFlrSF</th>\n",
              "      <th>LowQualFinSF</th>\n",
              "      <th>GrLivArea</th>\n",
              "      <th>BsmtFullBath</th>\n",
              "      <th>BsmtHalfBath</th>\n",
              "      <th>FullBath</th>\n",
              "      <th>HalfBath</th>\n",
              "      <th>BedroomAbvGr</th>\n",
              "      <th>KitchenAbvGr</th>\n",
              "      <th>KitchenQual</th>\n",
              "      <th>TotRmsAbvGrd</th>\n",
              "      <th>Functional</th>\n",
              "      <th>Fireplaces</th>\n",
              "      <th>FireplaceQu</th>\n",
              "      <th>GarageType</th>\n",
              "      <th>GarageYrBlt</th>\n",
              "      <th>GarageFinish</th>\n",
              "      <th>GarageCars</th>\n",
              "      <th>GarageArea</th>\n",
              "      <th>GarageQual</th>\n",
              "      <th>GarageCond</th>\n",
              "      <th>PavedDrive</th>\n",
              "      <th>WoodDeckSF</th>\n",
              "      <th>OpenPorchSF</th>\n",
              "      <th>EnclosedPorch</th>\n",
              "      <th>3SsnPorch</th>\n",
              "      <th>ScreenPorch</th>\n",
              "      <th>PoolArea</th>\n",
              "      <th>PoolQC</th>\n",
              "      <th>Fence</th>\n",
              "      <th>MiscFeature</th>\n",
              "      <th>MiscVal</th>\n",
              "      <th>MoSold</th>\n",
              "      <th>YrSold</th>\n",
              "      <th>SaleType</th>\n",
              "      <th>SaleCondition</th>\n",
              "      <th>SalePrice</th>\n",
              "    </tr>\n",
              "  </thead>\n",
              "  <tbody>\n",
              "    <tr>\n",
              "      <th>0</th>\n",
              "      <td>1</td>\n",
              "      <td>60</td>\n",
              "      <td>RL</td>\n",
              "      <td>65.0</td>\n",
              "      <td>8450</td>\n",
              "      <td>Pave</td>\n",
              "      <td>NaN</td>\n",
              "      <td>Reg</td>\n",
              "      <td>Lvl</td>\n",
              "      <td>AllPub</td>\n",
              "      <td>Inside</td>\n",
              "      <td>Gtl</td>\n",
              "      <td>CollgCr</td>\n",
              "      <td>Norm</td>\n",
              "      <td>Norm</td>\n",
              "      <td>1Fam</td>\n",
              "      <td>2Story</td>\n",
              "      <td>7</td>\n",
              "      <td>5</td>\n",
              "      <td>2003</td>\n",
              "      <td>2003</td>\n",
              "      <td>Gable</td>\n",
              "      <td>CompShg</td>\n",
              "      <td>VinylSd</td>\n",
              "      <td>VinylSd</td>\n",
              "      <td>BrkFace</td>\n",
              "      <td>196.0</td>\n",
              "      <td>Gd</td>\n",
              "      <td>TA</td>\n",
              "      <td>PConc</td>\n",
              "      <td>Gd</td>\n",
              "      <td>TA</td>\n",
              "      <td>No</td>\n",
              "      <td>GLQ</td>\n",
              "      <td>706</td>\n",
              "      <td>Unf</td>\n",
              "      <td>0</td>\n",
              "      <td>150</td>\n",
              "      <td>856</td>\n",
              "      <td>GasA</td>\n",
              "      <td>...</td>\n",
              "      <td>Y</td>\n",
              "      <td>SBrkr</td>\n",
              "      <td>856</td>\n",
              "      <td>854</td>\n",
              "      <td>0</td>\n",
              "      <td>1710</td>\n",
              "      <td>1</td>\n",
              "      <td>0</td>\n",
              "      <td>2</td>\n",
              "      <td>1</td>\n",
              "      <td>3</td>\n",
              "      <td>1</td>\n",
              "      <td>Gd</td>\n",
              "      <td>8</td>\n",
              "      <td>Typ</td>\n",
              "      <td>0</td>\n",
              "      <td>NaN</td>\n",
              "      <td>Attchd</td>\n",
              "      <td>2003.0</td>\n",
              "      <td>RFn</td>\n",
              "      <td>2</td>\n",
              "      <td>548</td>\n",
              "      <td>TA</td>\n",
              "      <td>TA</td>\n",
              "      <td>Y</td>\n",
              "      <td>0</td>\n",
              "      <td>61</td>\n",
              "      <td>0</td>\n",
              "      <td>0</td>\n",
              "      <td>0</td>\n",
              "      <td>0</td>\n",
              "      <td>NaN</td>\n",
              "      <td>NaN</td>\n",
              "      <td>NaN</td>\n",
              "      <td>0</td>\n",
              "      <td>2</td>\n",
              "      <td>2008</td>\n",
              "      <td>WD</td>\n",
              "      <td>Normal</td>\n",
              "      <td>208500</td>\n",
              "    </tr>\n",
              "    <tr>\n",
              "      <th>1</th>\n",
              "      <td>2</td>\n",
              "      <td>20</td>\n",
              "      <td>RL</td>\n",
              "      <td>80.0</td>\n",
              "      <td>9600</td>\n",
              "      <td>Pave</td>\n",
              "      <td>NaN</td>\n",
              "      <td>Reg</td>\n",
              "      <td>Lvl</td>\n",
              "      <td>AllPub</td>\n",
              "      <td>FR2</td>\n",
              "      <td>Gtl</td>\n",
              "      <td>Veenker</td>\n",
              "      <td>Feedr</td>\n",
              "      <td>Norm</td>\n",
              "      <td>1Fam</td>\n",
              "      <td>1Story</td>\n",
              "      <td>6</td>\n",
              "      <td>8</td>\n",
              "      <td>1976</td>\n",
              "      <td>1976</td>\n",
              "      <td>Gable</td>\n",
              "      <td>CompShg</td>\n",
              "      <td>MetalSd</td>\n",
              "      <td>MetalSd</td>\n",
              "      <td>None</td>\n",
              "      <td>0.0</td>\n",
              "      <td>TA</td>\n",
              "      <td>TA</td>\n",
              "      <td>CBlock</td>\n",
              "      <td>Gd</td>\n",
              "      <td>TA</td>\n",
              "      <td>Gd</td>\n",
              "      <td>ALQ</td>\n",
              "      <td>978</td>\n",
              "      <td>Unf</td>\n",
              "      <td>0</td>\n",
              "      <td>284</td>\n",
              "      <td>1262</td>\n",
              "      <td>GasA</td>\n",
              "      <td>...</td>\n",
              "      <td>Y</td>\n",
              "      <td>SBrkr</td>\n",
              "      <td>1262</td>\n",
              "      <td>0</td>\n",
              "      <td>0</td>\n",
              "      <td>1262</td>\n",
              "      <td>0</td>\n",
              "      <td>1</td>\n",
              "      <td>2</td>\n",
              "      <td>0</td>\n",
              "      <td>3</td>\n",
              "      <td>1</td>\n",
              "      <td>TA</td>\n",
              "      <td>6</td>\n",
              "      <td>Typ</td>\n",
              "      <td>1</td>\n",
              "      <td>TA</td>\n",
              "      <td>Attchd</td>\n",
              "      <td>1976.0</td>\n",
              "      <td>RFn</td>\n",
              "      <td>2</td>\n",
              "      <td>460</td>\n",
              "      <td>TA</td>\n",
              "      <td>TA</td>\n",
              "      <td>Y</td>\n",
              "      <td>298</td>\n",
              "      <td>0</td>\n",
              "      <td>0</td>\n",
              "      <td>0</td>\n",
              "      <td>0</td>\n",
              "      <td>0</td>\n",
              "      <td>NaN</td>\n",
              "      <td>NaN</td>\n",
              "      <td>NaN</td>\n",
              "      <td>0</td>\n",
              "      <td>5</td>\n",
              "      <td>2007</td>\n",
              "      <td>WD</td>\n",
              "      <td>Normal</td>\n",
              "      <td>181500</td>\n",
              "    </tr>\n",
              "    <tr>\n",
              "      <th>2</th>\n",
              "      <td>3</td>\n",
              "      <td>60</td>\n",
              "      <td>RL</td>\n",
              "      <td>68.0</td>\n",
              "      <td>11250</td>\n",
              "      <td>Pave</td>\n",
              "      <td>NaN</td>\n",
              "      <td>IR1</td>\n",
              "      <td>Lvl</td>\n",
              "      <td>AllPub</td>\n",
              "      <td>Inside</td>\n",
              "      <td>Gtl</td>\n",
              "      <td>CollgCr</td>\n",
              "      <td>Norm</td>\n",
              "      <td>Norm</td>\n",
              "      <td>1Fam</td>\n",
              "      <td>2Story</td>\n",
              "      <td>7</td>\n",
              "      <td>5</td>\n",
              "      <td>2001</td>\n",
              "      <td>2002</td>\n",
              "      <td>Gable</td>\n",
              "      <td>CompShg</td>\n",
              "      <td>VinylSd</td>\n",
              "      <td>VinylSd</td>\n",
              "      <td>BrkFace</td>\n",
              "      <td>162.0</td>\n",
              "      <td>Gd</td>\n",
              "      <td>TA</td>\n",
              "      <td>PConc</td>\n",
              "      <td>Gd</td>\n",
              "      <td>TA</td>\n",
              "      <td>Mn</td>\n",
              "      <td>GLQ</td>\n",
              "      <td>486</td>\n",
              "      <td>Unf</td>\n",
              "      <td>0</td>\n",
              "      <td>434</td>\n",
              "      <td>920</td>\n",
              "      <td>GasA</td>\n",
              "      <td>...</td>\n",
              "      <td>Y</td>\n",
              "      <td>SBrkr</td>\n",
              "      <td>920</td>\n",
              "      <td>866</td>\n",
              "      <td>0</td>\n",
              "      <td>1786</td>\n",
              "      <td>1</td>\n",
              "      <td>0</td>\n",
              "      <td>2</td>\n",
              "      <td>1</td>\n",
              "      <td>3</td>\n",
              "      <td>1</td>\n",
              "      <td>Gd</td>\n",
              "      <td>6</td>\n",
              "      <td>Typ</td>\n",
              "      <td>1</td>\n",
              "      <td>TA</td>\n",
              "      <td>Attchd</td>\n",
              "      <td>2001.0</td>\n",
              "      <td>RFn</td>\n",
              "      <td>2</td>\n",
              "      <td>608</td>\n",
              "      <td>TA</td>\n",
              "      <td>TA</td>\n",
              "      <td>Y</td>\n",
              "      <td>0</td>\n",
              "      <td>42</td>\n",
              "      <td>0</td>\n",
              "      <td>0</td>\n",
              "      <td>0</td>\n",
              "      <td>0</td>\n",
              "      <td>NaN</td>\n",
              "      <td>NaN</td>\n",
              "      <td>NaN</td>\n",
              "      <td>0</td>\n",
              "      <td>9</td>\n",
              "      <td>2008</td>\n",
              "      <td>WD</td>\n",
              "      <td>Normal</td>\n",
              "      <td>223500</td>\n",
              "    </tr>\n",
              "    <tr>\n",
              "      <th>3</th>\n",
              "      <td>4</td>\n",
              "      <td>70</td>\n",
              "      <td>RL</td>\n",
              "      <td>60.0</td>\n",
              "      <td>9550</td>\n",
              "      <td>Pave</td>\n",
              "      <td>NaN</td>\n",
              "      <td>IR1</td>\n",
              "      <td>Lvl</td>\n",
              "      <td>AllPub</td>\n",
              "      <td>Corner</td>\n",
              "      <td>Gtl</td>\n",
              "      <td>Crawfor</td>\n",
              "      <td>Norm</td>\n",
              "      <td>Norm</td>\n",
              "      <td>1Fam</td>\n",
              "      <td>2Story</td>\n",
              "      <td>7</td>\n",
              "      <td>5</td>\n",
              "      <td>1915</td>\n",
              "      <td>1970</td>\n",
              "      <td>Gable</td>\n",
              "      <td>CompShg</td>\n",
              "      <td>Wd Sdng</td>\n",
              "      <td>Wd Shng</td>\n",
              "      <td>None</td>\n",
              "      <td>0.0</td>\n",
              "      <td>TA</td>\n",
              "      <td>TA</td>\n",
              "      <td>BrkTil</td>\n",
              "      <td>TA</td>\n",
              "      <td>Gd</td>\n",
              "      <td>No</td>\n",
              "      <td>ALQ</td>\n",
              "      <td>216</td>\n",
              "      <td>Unf</td>\n",
              "      <td>0</td>\n",
              "      <td>540</td>\n",
              "      <td>756</td>\n",
              "      <td>GasA</td>\n",
              "      <td>...</td>\n",
              "      <td>Y</td>\n",
              "      <td>SBrkr</td>\n",
              "      <td>961</td>\n",
              "      <td>756</td>\n",
              "      <td>0</td>\n",
              "      <td>1717</td>\n",
              "      <td>1</td>\n",
              "      <td>0</td>\n",
              "      <td>1</td>\n",
              "      <td>0</td>\n",
              "      <td>3</td>\n",
              "      <td>1</td>\n",
              "      <td>Gd</td>\n",
              "      <td>7</td>\n",
              "      <td>Typ</td>\n",
              "      <td>1</td>\n",
              "      <td>Gd</td>\n",
              "      <td>Detchd</td>\n",
              "      <td>1998.0</td>\n",
              "      <td>Unf</td>\n",
              "      <td>3</td>\n",
              "      <td>642</td>\n",
              "      <td>TA</td>\n",
              "      <td>TA</td>\n",
              "      <td>Y</td>\n",
              "      <td>0</td>\n",
              "      <td>35</td>\n",
              "      <td>272</td>\n",
              "      <td>0</td>\n",
              "      <td>0</td>\n",
              "      <td>0</td>\n",
              "      <td>NaN</td>\n",
              "      <td>NaN</td>\n",
              "      <td>NaN</td>\n",
              "      <td>0</td>\n",
              "      <td>2</td>\n",
              "      <td>2006</td>\n",
              "      <td>WD</td>\n",
              "      <td>Abnorml</td>\n",
              "      <td>140000</td>\n",
              "    </tr>\n",
              "    <tr>\n",
              "      <th>4</th>\n",
              "      <td>5</td>\n",
              "      <td>60</td>\n",
              "      <td>RL</td>\n",
              "      <td>84.0</td>\n",
              "      <td>14260</td>\n",
              "      <td>Pave</td>\n",
              "      <td>NaN</td>\n",
              "      <td>IR1</td>\n",
              "      <td>Lvl</td>\n",
              "      <td>AllPub</td>\n",
              "      <td>FR2</td>\n",
              "      <td>Gtl</td>\n",
              "      <td>NoRidge</td>\n",
              "      <td>Norm</td>\n",
              "      <td>Norm</td>\n",
              "      <td>1Fam</td>\n",
              "      <td>2Story</td>\n",
              "      <td>8</td>\n",
              "      <td>5</td>\n",
              "      <td>2000</td>\n",
              "      <td>2000</td>\n",
              "      <td>Gable</td>\n",
              "      <td>CompShg</td>\n",
              "      <td>VinylSd</td>\n",
              "      <td>VinylSd</td>\n",
              "      <td>BrkFace</td>\n",
              "      <td>350.0</td>\n",
              "      <td>Gd</td>\n",
              "      <td>TA</td>\n",
              "      <td>PConc</td>\n",
              "      <td>Gd</td>\n",
              "      <td>TA</td>\n",
              "      <td>Av</td>\n",
              "      <td>GLQ</td>\n",
              "      <td>655</td>\n",
              "      <td>Unf</td>\n",
              "      <td>0</td>\n",
              "      <td>490</td>\n",
              "      <td>1145</td>\n",
              "      <td>GasA</td>\n",
              "      <td>...</td>\n",
              "      <td>Y</td>\n",
              "      <td>SBrkr</td>\n",
              "      <td>1145</td>\n",
              "      <td>1053</td>\n",
              "      <td>0</td>\n",
              "      <td>2198</td>\n",
              "      <td>1</td>\n",
              "      <td>0</td>\n",
              "      <td>2</td>\n",
              "      <td>1</td>\n",
              "      <td>4</td>\n",
              "      <td>1</td>\n",
              "      <td>Gd</td>\n",
              "      <td>9</td>\n",
              "      <td>Typ</td>\n",
              "      <td>1</td>\n",
              "      <td>TA</td>\n",
              "      <td>Attchd</td>\n",
              "      <td>2000.0</td>\n",
              "      <td>RFn</td>\n",
              "      <td>3</td>\n",
              "      <td>836</td>\n",
              "      <td>TA</td>\n",
              "      <td>TA</td>\n",
              "      <td>Y</td>\n",
              "      <td>192</td>\n",
              "      <td>84</td>\n",
              "      <td>0</td>\n",
              "      <td>0</td>\n",
              "      <td>0</td>\n",
              "      <td>0</td>\n",
              "      <td>NaN</td>\n",
              "      <td>NaN</td>\n",
              "      <td>NaN</td>\n",
              "      <td>0</td>\n",
              "      <td>12</td>\n",
              "      <td>2008</td>\n",
              "      <td>WD</td>\n",
              "      <td>Normal</td>\n",
              "      <td>250000</td>\n",
              "    </tr>\n",
              "  </tbody>\n",
              "</table>\n",
              "<p>5 rows × 81 columns</p>\n",
              "</div>"
            ],
            "text/plain": [
              "   Id  MSSubClass MSZoning  ...  SaleType  SaleCondition SalePrice\n",
              "0   1          60       RL  ...        WD         Normal    208500\n",
              "1   2          20       RL  ...        WD         Normal    181500\n",
              "2   3          60       RL  ...        WD         Normal    223500\n",
              "3   4          70       RL  ...        WD        Abnorml    140000\n",
              "4   5          60       RL  ...        WD         Normal    250000\n",
              "\n",
              "[5 rows x 81 columns]"
            ]
          },
          "metadata": {
            "tags": []
          },
          "execution_count": 2
        }
      ]
    },
    {
      "cell_type": "markdown",
      "metadata": {
        "id": "wlZym4JxJR1N",
        "colab_type": "text"
      },
      "source": [
        "### Pipilene magic's starts here! :P"
      ]
    },
    {
      "cell_type": "markdown",
      "metadata": {
        "id": "Vwb2MjVJHyCu",
        "colab_type": "text"
      },
      "source": [
        "**Sklearn documentation about Pipeline:**\n",
        "\n",
        "\n",
        "---\n",
        "\n",
        "\n",
        "1.   *Intermediate steps of the pipeline must be ‘transforms’, that is, they must implement fit and transform methods. The final estimator only needs to implement fit.*\n",
        "\n",
        "2.   *The purpose of the pipeline is to assemble several steps that can be cross-validated together while setting different parameters.*\n",
        "\n"
      ]
    },
    {
      "cell_type": "markdown",
      "metadata": {
        "id": "B9uUpP_IGxGC",
        "colab_type": "text"
      },
      "source": [
        "**Pipeline allows to chain transformers with a estimator :)**\n",
        "\n",
        "This is a simple pipeline for example:\n"
      ]
    },
    {
      "cell_type": "code",
      "metadata": {
        "id": "NUaVMtLfGw90",
        "colab_type": "code",
        "outputId": "0bc7e41c-4ac0-47b6-9fe1-bda825fa7c31",
        "colab": {
          "base_uri": "https://localhost:8080/",
          "height": 35
        }
      },
      "source": [
        "#drop categorical features\n",
        "X = df.select_dtypes(\"number\").drop(\"SalePrice\", axis=1)\n",
        "y = df.SalePrice\n",
        "\n",
        "#Setup a pipeline with an Imputer(fills in missing values), a Scaler and a \n",
        "#LinearRegression classifier\n",
        "pipe = make_pipeline(SimpleImputer(), RobustScaler(), LinearRegression())\n",
        "\n",
        "#crossvalidation and print\n",
        "print(f\"R2 score: {cross_val_score(pipe, X, y)}\")"
      ],
      "execution_count": 3,
      "outputs": [
        {
          "output_type": "stream",
          "text": [
            "R2 score: [0.84258561 0.79289509 0.69765464]\n"
          ],
          "name": "stdout"
        }
      ]
    },
    {
      "cell_type": "markdown",
      "metadata": {
        "id": "YVI3aQGqJy5u",
        "colab_type": "text"
      },
      "source": [
        "**Working with categorical features**"
      ]
    },
    {
      "cell_type": "code",
      "metadata": {
        "id": "50wW0TtyNLV2",
        "colab_type": "code",
        "colab": {}
      },
      "source": [
        "#name of columns with numerical features\n",
        "num_cols = df.drop(\"SalePrice\", axis=1).select_dtypes(\"number\").columns\n",
        "#name of columns with categorical features\n",
        "cat_cols = df.select_dtypes(\"object\").columns"
      ],
      "execution_count": 0,
      "outputs": []
    },
    {
      "cell_type": "markdown",
      "metadata": {
        "id": "h2meExJfM11d",
        "colab_type": "text"
      },
      "source": [
        "First create a pipeline for numerical"
      ]
    },
    {
      "cell_type": "code",
      "metadata": {
        "id": "Fp9xCIjOJDwa",
        "colab_type": "code",
        "colab": {}
      },
      "source": [
        "#Pipeline for numerical values\n",
        "numeric_transformer = Pipeline(steps=[\n",
        "        ('imputer', SimpleImputer()),\n",
        "        ('scaler', RobustScaler())])\n",
        "#if i want to see the result numeric_transformer.fit_transform(X)"
      ],
      "execution_count": 0,
      "outputs": []
    },
    {
      "cell_type": "markdown",
      "metadata": {
        "id": "w3CtiXi6M82M",
        "colab_type": "text"
      },
      "source": [
        "Create a pipeline for categorical"
      ]
    },
    {
      "cell_type": "code",
      "metadata": {
        "id": "WmvbtibDNIS9",
        "colab_type": "code",
        "colab": {}
      },
      "source": [
        "#Pipeline for categorical data\n",
        "categorical_transformer = Pipeline(steps=[\n",
        "        ('imputer', SimpleImputer(strategy='most_frequent', fill_value='missing')),\n",
        "        ('onehot', OneHotEncoder(handle_unknown='ignore'))])"
      ],
      "execution_count": 0,
      "outputs": []
    },
    {
      "cell_type": "markdown",
      "metadata": {
        "id": "g72VceCmNBjJ",
        "colab_type": "text"
      },
      "source": [
        "Combine"
      ]
    },
    {
      "cell_type": "code",
      "metadata": {
        "id": "UaJaE2d7NVcT",
        "colab_type": "code",
        "outputId": "3c481c35-ff8a-4628-dbe5-42109d7d9cb7",
        "colab": {
          "base_uri": "https://localhost:8080/",
          "height": 108
        }
      },
      "source": [
        "#ColumnTransformer combines the two created pipelines\n",
        "preprocessor = ColumnTransformer(\n",
        "        transformers=[\n",
        "            #List of (name, transformer, column(s))\n",
        "            ('num', numeric_transformer, num_cols),\n",
        "            ('cat', categorical_transformer, cat_cols)])\n",
        "\n",
        "pipe = Pipeline(steps=[('preprocessor', preprocessor), ('classifier', LinearRegression())])\n",
        "\n",
        "X = df.drop(\"SalePrice\", axis=1)\n",
        "y = df.SalePrice\n",
        "\n",
        "print(\"MAGIC WAS DONE!\\n\")\n",
        "print(45*'-'+'\\n')\n",
        "print(f\"R2 score is: {cross_val_score(pipe, X, y)}\")"
      ],
      "execution_count": 7,
      "outputs": [
        {
          "output_type": "stream",
          "text": [
            "MAGIC WAS DONE!\n",
            "\n",
            "---------------------------------------------\n",
            "\n",
            "R2 score is: [0.86801211 0.83038401 0.72109799]\n"
          ],
          "name": "stdout"
        }
      ]
    },
    {
      "cell_type": "markdown",
      "metadata": {
        "id": "VLJx3flWP5Rn",
        "colab_type": "text"
      },
      "source": [
        "### Let's show more pipeline magic using the classifiers"
      ]
    },
    {
      "cell_type": "markdown",
      "metadata": {
        "id": "Dpuk2uxLRnkP",
        "colab_type": "text"
      },
      "source": [
        " Set a list with 10 common classifiers"
      ]
    },
    {
      "cell_type": "code",
      "metadata": {
        "id": "ZCRG8qPARdK8",
        "colab_type": "code",
        "colab": {}
      },
      "source": [
        "classifiers = [\n",
        "               DummyRegressor(),\n",
        "               LinearRegression(n_jobs=-1), \n",
        "               Ridge(alpha=0.003, max_iter=30), \n",
        "               Lasso(alpha=.0005), \n",
        "               ElasticNet(alpha=0.0005, l1_ratio=.9),\n",
        "               KernelRidge(alpha=0.6, kernel=\"polynomial\", degree=2, coef0=2.5),\n",
        "               SGDRegressor(),\n",
        "               SVR(kernel=\"linear\"),\n",
        "               LinearSVR(),\n",
        "               RandomForestRegressor(n_jobs=-1, n_estimators=350, \n",
        "                                     max_depth=12, random_state=1),\n",
        "               GradientBoostingRegressor(n_estimators=500, max_depth=2),\n",
        "               lgb.LGBMRegressor(n_jobs=-1, max_depth=2, n_estimators=1000, \n",
        "                                 learning_rate=0.05),\n",
        "               xgb.XGBRegressor(objective=\"reg:squarederror\", n_jobs=-1, \n",
        "                                max_depth=2, n_estimators=1500, learning_rate=0.075),\n",
        "]\n",
        "\n",
        "clf_names = [\n",
        "            \"dummy\", \n",
        "            \"linear\", \n",
        "            \"ridge\",\n",
        "            \"lasso\",\n",
        "            \"elastic\",\n",
        "            \"kernlrdg\",\n",
        "            \"sgdreg\",\n",
        "            \"svr\",\n",
        "            \"linearsvr\",\n",
        "            \"randomforest\", \n",
        "            \"gbm\", \n",
        "            \"lgbm\", \n",
        "            \"xgboost\"\n",
        "]"
      ],
      "execution_count": 0,
      "outputs": []
    },
    {
      "cell_type": "markdown",
      "metadata": {
        "id": "yvwa3M5da0zj",
        "colab_type": "text"
      },
      "source": [
        "**Encapsulate all our feature cleaning and engineering**"
      ]
    },
    {
      "cell_type": "code",
      "metadata": {
        "id": "f_yq6uaQRsQF",
        "colab_type": "code",
        "colab": {}
      },
      "source": [
        "def clean_data(data, is_train_data=True):\n",
        "    # cleaning and feature engineering here\n",
        "    # here we create a new feature \n",
        "    data['TotalSF'] = data['TotalBsmtSF'] + data['1stFlrSF'] + data['2ndFlrSF']\n",
        "\n",
        "    # code that you only want to apply to your training data and not the test set\n",
        "    # removing outliers from the training data\n",
        "    \n",
        "    if is_train_data == True:\n",
        "        data = data[data.GrLivArea < 4000]\n",
        "        \n",
        "    return data"
      ],
      "execution_count": 0,
      "outputs": []
    },
    {
      "cell_type": "markdown",
      "metadata": {
        "id": "8HrerzX3bjFf",
        "colab_type": "text"
      },
      "source": [
        "**Prepare our data for the pipeline**\n",
        "\n",
        "\n",
        "---\n",
        "Now we will use a function to separate the categorical and numerical cols\n"
      ]
    },
    {
      "cell_type": "code",
      "metadata": {
        "id": "9U3Vmrjubigv",
        "colab_type": "code",
        "colab": {}
      },
      "source": [
        "def prepare_data(df, is_train_data=True):\n",
        "    \n",
        "    # numerical or catecorical?\n",
        "    numerical   = df.select_dtypes(\"number\").copy()\n",
        "    categorical = df.select_dtypes(\"object\").copy()\n",
        "    \n",
        "    # get the sales price and drop the id if is train\n",
        "    if is_train_data == True :\n",
        "        SalePrice = numerical.SalePrice\n",
        "        y = np.log1p(SalePrice)\n",
        "        numerical.drop([\"Id\", \"SalePrice\"], axis=1, inplace=True)\n",
        "        \n",
        "    # just drop the id if is test\n",
        "    else:\n",
        "        numerical.drop([\"Id\"], axis=1, inplace=True)\n",
        "        y = None\n",
        "    \n",
        "    # concatenate numerical and categorical \n",
        "    X = pd.concat([numerical, categorical], axis=1)\n",
        "    \n",
        "    # we need to return the columns because wi will use it in Column transformer\n",
        "    return X, y, numerical.columns, categorical.columns"
      ],
      "execution_count": 0,
      "outputs": []
    },
    {
      "cell_type": "markdown",
      "metadata": {
        "id": "AX7YcUzLcNHR",
        "colab_type": "text"
      },
      "source": [
        "**Create the pipeline**\n",
        "\n",
        "---\n",
        "Let's encapsulate our pipeline above\n",
        "36/5000\n",
        "vamos encapsular nosso pipeline acima\n"
      ]
    },
    {
      "cell_type": "code",
      "metadata": {
        "id": "C73-SsWIdOur",
        "colab_type": "code",
        "colab": {}
      },
      "source": [
        "#Same steps into a function\n",
        "\n",
        "def get_pipeline(classifier, num_cols, cat_cols):\n",
        "  \n",
        "  numeric_transformer = Pipeline(steps=[\n",
        "        ('imputer', make_pipeline(SimpleImputer(strategy='mean'))),\n",
        "        ('scaler', StandardScaler())])\n",
        "    \n",
        "   \n",
        "  categorical_transformer = Pipeline(steps=[\n",
        "        ('imputer', SimpleImputer(strategy='most_frequent', fill_value='missing')),\n",
        "        ('onehot', OneHotEncoder(handle_unknown='ignore'))])\n",
        "    \n",
        "  preprocessor = ColumnTransformer(\n",
        "        transformers=[\n",
        "            ('num', numeric_transformer, num_cols),\n",
        "            ('cat', categorical_transformer, cat_cols)])\n",
        "    \n",
        "    \n",
        "  return Pipeline(steps=[('preprocessor', preprocessor), ('classifier', classifier)])"
      ],
      "execution_count": 0,
      "outputs": []
    },
    {
      "cell_type": "markdown",
      "metadata": {
        "id": "vtt7PCoMeHeo",
        "colab_type": "text"
      },
      "source": [
        "**Don't forget crossvalidation**"
      ]
    },
    {
      "cell_type": "code",
      "metadata": {
        "id": "zzj6yNOyeGHL",
        "colab_type": "code",
        "colab": {}
      },
      "source": [
        "def score_models(df):\n",
        "    \n",
        "    X, y, num_cols, cat_cols = prepare_data(df)\n",
        "\n",
        "    scoring_metric = \"neg_mean_squared_error\"\n",
        "    scores = []\n",
        "    \n",
        "    #for each classifier\n",
        "    for clf_name, classifier in zip(clf_names, classifiers):\n",
        "        \n",
        "        # crate a pipeline\n",
        "        clf = get_pipeline(classifier, num_cols, cat_cols)\n",
        "\n",
        "        kfold = KFold(n_splits=3, shuffle=True, random_state=1)  \n",
        "       \n",
        "        results = np.sqrt(-cross_val_score(clf, X, y, cv=kfold, scoring=scoring_metric))\n",
        "        scores.append([clf_name, results.mean()])\n",
        "\n",
        "    scores = pd.DataFrame(scores, columns=[\"classifier\", \"rmse\"]).sort_values(\"rmse\", ascending=False)\n",
        "   \n",
        "    return scores.reset_index(drop=True)"
      ],
      "execution_count": 0,
      "outputs": []
    },
    {
      "cell_type": "markdown",
      "metadata": {
        "id": "lQsyzRREfZB8",
        "colab_type": "text"
      },
      "source": [
        "**Now we will train \\o/**"
      ]
    },
    {
      "cell_type": "code",
      "metadata": {
        "id": "xNXxPhFSeGF-",
        "colab_type": "code",
        "colab": {}
      },
      "source": [
        "def train_models(df): \n",
        "    X, y, num_cols, cat_cols = prepare_data(df)\n",
        "    pipelines = []\n",
        "    \n",
        "    for clf_name, classifier in zip(clf_names, classifiers):\n",
        "        clf = get_pipeline(classifier, num_cols, cat_cols)\n",
        "        clf.fit(X, y)\n",
        "        pipelines.append(clf)\n",
        "    \n",
        "    return pipelines"
      ],
      "execution_count": 0,
      "outputs": []
    },
    {
      "cell_type": "markdown",
      "metadata": {
        "id": "kuW0xbZAfZMz",
        "colab_type": "text"
      },
      "source": [
        "**If we train we predict! kkkkkkk**"
      ]
    },
    {
      "cell_type": "code",
      "metadata": {
        "id": "O7BF0YX7f5Cx",
        "colab_type": "code",
        "colab": {}
      },
      "source": [
        "def predict_from_models(df_test, pipelines):\n",
        "    X_test, _ , _, _ = prepare_data(df_test, is_train_data=False)\n",
        "    predictions = []\n",
        "    \n",
        "    for pipeline in pipelines:\n",
        "        preds = pipeline.predict(X_test)\n",
        "\n",
        "        predictions.append(np.expm1(preds))\n",
        "    \n",
        "    return predictions"
      ],
      "execution_count": 0,
      "outputs": []
    },
    {
      "cell_type": "markdown",
      "metadata": {
        "id": "hkRVIagXgJqj",
        "colab_type": "text"
      },
      "source": [
        "### THE TIME OF MY LIFE (Finally we will use)"
      ]
    },
    {
      "cell_type": "code",
      "metadata": {
        "id": "Jf81xKV1gIha",
        "colab_type": "code",
        "colab": {
          "base_uri": "https://localhost:8080/",
          "height": 468
        },
        "outputId": "a61ff0bb-c6f3-45dc-aac8-1fd347068a6e"
      },
      "source": [
        "df = clean_data(df)\n",
        "df_test = clean_data(df_test, is_train_data=False)\n",
        "\n",
        "scores_cv = score_models(df)\n",
        "print(scores_cv)\n",
        "\n",
        "models = train_models(df)\n",
        "predictions = predict_from_models(df_test, models)\n",
        "\n",
        "prediction_final = pd.DataFrame(predictions[2:]).mean().T.values\n",
        "\n",
        "submission = pd.DataFrame({'Id': df_test.Id.values, 'SalePrice': prediction_final})\n",
        "submission.to_csv(f\"submission.csv\", index=False)"
      ],
      "execution_count": 15,
      "outputs": [
        {
          "output_type": "display_data",
          "data": {
            "text/html": [
              "<div>\n",
              "<style scoped>\n",
              "    .dataframe tbody tr th:only-of-type {\n",
              "        vertical-align: middle;\n",
              "    }\n",
              "\n",
              "    .dataframe tbody tr th {\n",
              "        vertical-align: top;\n",
              "    }\n",
              "\n",
              "    .dataframe thead th {\n",
              "        text-align: right;\n",
              "    }\n",
              "</style>\n",
              "<table border=\"1\" class=\"dataframe\">\n",
              "  <thead>\n",
              "    <tr style=\"text-align: right;\">\n",
              "      <th></th>\n",
              "      <th>classifier</th>\n",
              "      <th>rmse</th>\n",
              "    </tr>\n",
              "  </thead>\n",
              "  <tbody>\n",
              "    <tr>\n",
              "      <th>0</th>\n",
              "      <td>dummy</td>\n",
              "      <td>0.395788</td>\n",
              "    </tr>\n",
              "    <tr>\n",
              "      <th>1</th>\n",
              "      <td>sgdreg</td>\n",
              "      <td>0.245645</td>\n",
              "    </tr>\n",
              "    <tr>\n",
              "      <th>2</th>\n",
              "      <td>randomforest</td>\n",
              "      <td>0.138232</td>\n",
              "    </tr>\n",
              "    <tr>\n",
              "      <th>3</th>\n",
              "      <td>linearsvr</td>\n",
              "      <td>0.137680</td>\n",
              "    </tr>\n",
              "    <tr>\n",
              "      <th>4</th>\n",
              "      <td>linear</td>\n",
              "      <td>0.130697</td>\n",
              "    </tr>\n",
              "    <tr>\n",
              "      <th>5</th>\n",
              "      <td>svr</td>\n",
              "      <td>0.129446</td>\n",
              "    </tr>\n",
              "    <tr>\n",
              "      <th>6</th>\n",
              "      <td>xgboost</td>\n",
              "      <td>0.120122</td>\n",
              "    </tr>\n",
              "    <tr>\n",
              "      <th>7</th>\n",
              "      <td>lgbm</td>\n",
              "      <td>0.120102</td>\n",
              "    </tr>\n",
              "    <tr>\n",
              "      <th>8</th>\n",
              "      <td>gbm</td>\n",
              "      <td>0.119977</td>\n",
              "    </tr>\n",
              "    <tr>\n",
              "      <th>9</th>\n",
              "      <td>ridge</td>\n",
              "      <td>0.117331</td>\n",
              "    </tr>\n",
              "    <tr>\n",
              "      <th>10</th>\n",
              "      <td>elastic</td>\n",
              "      <td>0.113857</td>\n",
              "    </tr>\n",
              "    <tr>\n",
              "      <th>11</th>\n",
              "      <td>lasso</td>\n",
              "      <td>0.113624</td>\n",
              "    </tr>\n",
              "    <tr>\n",
              "      <th>12</th>\n",
              "      <td>kernlrdg</td>\n",
              "      <td>0.113385</td>\n",
              "    </tr>\n",
              "    <tr>\n",
              "      <th>13</th>\n",
              "      <td>mean_all</td>\n",
              "      <td>0.153530</td>\n",
              "    </tr>\n",
              "  </tbody>\n",
              "</table>\n",
              "</div>"
            ],
            "text/plain": [
              "      classifier      rmse\n",
              "0          dummy  0.395788\n",
              "1         sgdreg  0.245645\n",
              "2   randomforest  0.138232\n",
              "3      linearsvr  0.137680\n",
              "4         linear  0.130697\n",
              "5            svr  0.129446\n",
              "6        xgboost  0.120122\n",
              "7           lgbm  0.120102\n",
              "8            gbm  0.119977\n",
              "9          ridge  0.117331\n",
              "10       elastic  0.113857\n",
              "11         lasso  0.113624\n",
              "12      kernlrdg  0.113385\n",
              "13      mean_all  0.153530"
            ]
          },
          "metadata": {
            "tags": []
          }
        }
      ]
    }
  ]
}